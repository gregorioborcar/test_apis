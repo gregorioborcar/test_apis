{
  "nbformat": 4,
  "nbformat_minor": 0,
  "metadata": {
    "colab": {
      "provenance": [],
      "gpuType": "T4",
      "authorship_tag": "ABX9TyP55Vl9hw/FxZ3JZWAsrTEw",
      "include_colab_link": true
    },
    "kernelspec": {
      "name": "python3",
      "display_name": "Python 3"
    },
    "language_info": {
      "name": "python"
    },
    "accelerator": "GPU"
  },
  "cells": [
    {
      "cell_type": "markdown",
      "metadata": {
        "id": "view-in-github",
        "colab_type": "text"
      },
      "source": [
        "<a href=\"https://colab.research.google.com/github/gregorioborcar/test_apis/blob/master/Vicuna_API.ipynb\" target=\"_parent\"><img src=\"https://colab.research.google.com/assets/colab-badge.svg\" alt=\"Open In Colab\"/></a>"
      ]
    },
    {
      "cell_type": "code",
      "execution_count": null,
      "metadata": {
        "id": "kEeTwdnTM7As"
      },
      "outputs": [],
      "source": [
        "!pip install --pre torch --index-url https://download.pytorch.org/whl/nightly/cu118"
      ]
    },
    {
      "cell_type": "code",
      "source": [
        "!git clone https://github.com/turboderp/exllama & pip install -r exllama/requirements.txt"
      ],
      "metadata": {
        "id": "iIDu1F7pNQa-"
      },
      "execution_count": null,
      "outputs": []
    },
    {
      "cell_type": "code",
      "source": [
        "!git lfs install & git clone https://huggingface.co/4bit/vicuna-13b-GPTQ-4bit-128g"
      ],
      "metadata": {
        "id": "3eEgRYntORo1"
      },
      "execution_count": null,
      "outputs": []
    },
    {
      "cell_type": "code",
      "source": [
        "!pip -q install flask-ngrok\n",
        "!mkdir -p /root/.ngrok2/\n",
        "!echo \"authtoken: 2XLD9wNUroURnTNtZpEM8J6mM0u_5vsgdVhC6Tg9G7BrTmfd\" > /root/.ngrok2/ngrok.yml"
      ],
      "metadata": {
        "id": "E9WDvmYBPJp5"
      },
      "execution_count": null,
      "outputs": []
    },
    {
      "cell_type": "code",
      "source": [
        "%tb\n",
        "!python exllama/webui/app_colab.py -d vicuna-13b-GPTQ-4bit-128g"
      ],
      "metadata": {
        "id": "B2STPmoyycGw"
      },
      "execution_count": null,
      "outputs": []
    }
  ]
}