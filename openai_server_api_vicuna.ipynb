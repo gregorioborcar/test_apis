{
  "nbformat": 4,
  "nbformat_minor": 0,
  "metadata": {
    "colab": {
      "provenance": [],
      "authorship_tag": "ABX9TyPvan2OnWaYb7O140JCcw2A",
      "include_colab_link": true
    },
    "kernelspec": {
      "name": "python3",
      "display_name": "Python 3"
    },
    "language_info": {
      "name": "python"
    }
  },
  "cells": [
    {
      "cell_type": "markdown",
      "metadata": {
        "id": "view-in-github",
        "colab_type": "text"
      },
      "source": [
        "<a href=\"https://colab.research.google.com/github/gregorioborcar/test_apis/blob/main/openai_server_api_vicuna.ipynb\" target=\"_parent\"><img src=\"https://colab.research.google.com/assets/colab-badge.svg\" alt=\"Open In Colab\"/></a>"
      ]
    },
    {
      "cell_type": "code",
      "execution_count": 1,
      "metadata": {
        "id": "exK4gB2WyDwR",
        "colab": {
          "base_uri": "https://localhost:8080/"
        },
        "outputId": "db8e5d9f-88ad-4dc6-b326-2ef0c5ee5a12"
      },
      "outputs": [
        {
          "output_type": "stream",
          "name": "stdout",
          "text": [
            "Cloning into 'FastChat'...\n",
            "remote: Enumerating objects: 5139, done.\u001b[K\n",
            "remote: Counting objects: 100% (13/13), done.\u001b[K\n",
            "remote: Compressing objects: 100% (12/12), done.\u001b[K\n",
            "remote: Total 5139 (delta 1), reused 9 (delta 1), pack-reused 5126\u001b[K\n",
            "Receiving objects: 100% (5139/5139), 30.95 MiB | 23.58 MiB/s, done.\n",
            "Resolving deltas: 100% (3725/3725), done.\n"
          ]
        }
      ],
      "source": [
        "!git clone https://github.com/lm-sys/FastChat.git\n",
        "!pip install --upgrade pip\n",
        "!pip install /content/FastChat\n",
        "!pip install pyngrok uvicorn"
      ]
    },
    {
      "cell_type": "code",
      "source": [
        "!mkdir -p /root/.config/ngrok/\n",
        "!echo \"authtoken: 2XS0xkoDW9Si70lizPo2cYBi6aR_4SHBScdu5SnvCX4qBRLWY\" > /root/.config/ngrok/ngrok.yml\n",
        "!ngrok config upgrade"
      ],
      "metadata": {
        "id": "VhrFeT3vSWr0"
      },
      "execution_count": null,
      "outputs": []
    },
    {
      "cell_type": "code",
      "source": [
        "!python /content/FastChat/fastchat/serve/openai_api_server.py --host '127.0.0.1' --port 8000 --controller-address \"https://e055-34-125-102-234.ngrok-free.app:443\""
      ],
      "metadata": {
        "colab": {
          "base_uri": "https://localhost:8080/"
        },
        "id": "yo6J8NLqUu3L",
        "outputId": "710b7819-1076-48ee-a004-32b025647958"
      },
      "execution_count": 20,
      "outputs": [
        {
          "output_type": "stream",
          "name": "stdout",
          "text": [
            "t=2023-10-29T21:28:33+0000 lvl=warn msg=\"ngrok config file found at both XDG and legacy locations, using XDG location\" xdg_path=/root/.config/ngrok/ngrok.yml legacy_path=/root/.ngrok2/ngrok.yml\n",
            "ngrok tunnel \"https://6456-34-23-92-72.ngrok-free.app\" -> \"http://127.0.0.1:8000\"\n",
            "\u001b[32mINFO\u001b[0m:     Started server process [\u001b[36m29816\u001b[0m]\n",
            "\u001b[32mINFO\u001b[0m:     Waiting for application startup.\n",
            "\u001b[32mINFO\u001b[0m:     Application startup complete.\n",
            "\u001b[32mINFO\u001b[0m:     Uvicorn running on \u001b[1mhttp://127.0.0.1:8000\u001b[0m (Press CTRL+C to quit)\n",
            "\u001b[32mINFO\u001b[0m:     80.39.175.197:0 - \"\u001b[1mGET /v1/models HTTP/1.1\u001b[0m\" \u001b[32m200 OK\u001b[0m\n",
            "\u001b[32mINFO\u001b[0m:     80.39.175.197:0 - \"\u001b[1mGET /v1/chat/completions HTTP/1.1\u001b[0m\" \u001b[31m405 Method Not Allowed\u001b[0m\n",
            "\u001b[32mINFO\u001b[0m:     80.39.175.197:0 - \"\u001b[1mPOST /v1/chat/completions HTTP/1.1\u001b[0m\" \u001b[32m200 OK\u001b[0m\n",
            "\u001b[32mINFO\u001b[0m:     80.39.175.197:0 - \"\u001b[1mPOST /v1/chat/completions HTTP/1.1\u001b[0m\" \u001b[32m200 OK\u001b[0m\n",
            "\u001b[32mINFO\u001b[0m:     80.39.175.197:0 - \"\u001b[1mPOST /v1/chat/completions HTTP/1.1\u001b[0m\" \u001b[32m200 OK\u001b[0m\n",
            "\u001b[32mINFO\u001b[0m:     Shutting down\n",
            "\u001b[32mINFO\u001b[0m:     Waiting for application shutdown.\n",
            "\u001b[32mINFO\u001b[0m:     Application shutdown complete.\n",
            "\u001b[32mINFO\u001b[0m:     Finished server process [\u001b[36m29816\u001b[0m]\n"
          ]
        }
      ]
    },
    {
      "cell_type": "code",
      "source": [],
      "metadata": {
        "id": "jkgZf91km0l_"
      },
      "execution_count": null,
      "outputs": []
    }
  ]
}