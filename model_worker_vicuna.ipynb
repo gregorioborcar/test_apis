{
  "nbformat": 4,
  "nbformat_minor": 0,
  "metadata": {
    "colab": {
      "provenance": [],
      "gpuType": "T4",
      "authorship_tag": "ABX9TyPcAObHpG5vCEM0KUZS9Vss",
      "include_colab_link": true
    },
    "kernelspec": {
      "name": "python3",
      "display_name": "Python 3"
    },
    "language_info": {
      "name": "python"
    },
    "accelerator": "GPU"
  },
  "cells": [
    {
      "cell_type": "markdown",
      "metadata": {
        "id": "view-in-github",
        "colab_type": "text"
      },
      "source": [
        "<a href=\"https://colab.research.google.com/github/gregorioborcar/test_apis/blob/master/model_worker_vicuna.ipynb\" target=\"_parent\"><img src=\"https://colab.research.google.com/assets/colab-badge.svg\" alt=\"Open In Colab\"/></a>"
      ]
    },
    {
      "cell_type": "code",
      "execution_count": null,
      "metadata": {
        "id": "hdqx9-Z2nhsj"
      },
      "outputs": [],
      "source": [
        "!git clone https://github.com/lm-sys/FastChat.git\n",
        "!pip install --upgrade pip\n",
        "!pip install /content/FastChat\n",
        "!pip install pyngrok uvicorn\n",
        "!mkdir -p /root/.config/ngrok/\n",
        "!echo \"authtoken: 2XLD9wNUroURnTNtZpEM8J6mM0u_5vsgdVhC6Tg9G7BrTmfd\" > /root/.config/ngrok/ngrok.yml\n",
        "!ngrok config upgrade"
      ]
    },
    {
      "cell_type": "code",
      "source": [
        "!pip install accelerate peft sentencepiece torch transformers protobuf"
      ],
      "metadata": {
        "id": "vR3LQDvttoiw"
      },
      "execution_count": null,
      "outputs": []
    },
    {
      "cell_type": "code",
      "source": [
        "!python /content/FastChat/fastchat/serve/model_worker.py --load-8bit --device 'cuda' --host '127.0.0.1' --port 21000 --controller-address \"https://578d-34-125-102-234.ngrok-free.app:443\" --model-path 'lmsys/vicuna-7b-v1.5'"
      ],
      "metadata": {
        "colab": {
          "base_uri": "https://localhost:8080/"
        },
        "id": "7nJt-YvgoLmv",
        "outputId": "6f06116d-9fa5-4bcf-df56-f6969285afbe"
      },
      "execution_count": null,
      "outputs": [
        {
          "output_type": "stream",
          "name": "stdout",
          "text": [
            "2023-10-29 19:11:31 | INFO | model_worker | args: Namespace(host='127.0.0.1', port=21000, worker_address='http://localhost:21002', controller_address='https://578d-34-125-102-234.ngrok-free.app:443', model_path='lmsys/vicuna-7b-v1.5', revision='main', device='cuda', gpus=None, num_gpus=1, max_gpu_memory=None, dtype=None, load_8bit=True, cpu_offloading=False, gptq_ckpt=None, gptq_wbits=16, gptq_groupsize=-1, gptq_act_order=False, awq_ckpt=None, awq_wbits=16, awq_groupsize=-1, enable_exllama=False, exllama_max_seq_len=4096, exllama_gpu_split=None, model_names=None, conv_template=None, embed_in_truncate=False, limit_worker_concurrency=5, stream_interval=2, no_register=False, seed=None)\n",
            "2023-10-29 19:11:31 | INFO | model_worker | Loading the model ['vicuna-7b-v1.5'] on worker 07e0c55d ...\n",
            "  0% 0/2 [00:00<?, ?it/s]\n",
            " 50% 1/2 [00:25<00:25, 25.61s/it]\n",
            "100% 2/2 [01:38<00:00, 53.52s/it]\n",
            "100% 2/2 [01:38<00:00, 49.33s/it]\n",
            "2023-10-29 19:13:10 | ERROR | stderr | \n",
            "2023-10-29 19:13:10 | INFO | model_worker | Register to controller\n",
            "2023-10-29 19:13:11 | ERROR | stderr | \u001b[32mINFO\u001b[0m:     Started server process [\u001b[36m6336\u001b[0m]\n",
            "2023-10-29 19:13:11 | ERROR | stderr | \u001b[32mINFO\u001b[0m:     Waiting for application startup.\n",
            "2023-10-29 19:13:11 | ERROR | stderr | \u001b[32mINFO\u001b[0m:     Application startup complete.\n",
            "2023-10-29 19:13:11 | ERROR | stderr | \u001b[32mINFO\u001b[0m:     Uvicorn running on \u001b[1mhttp://127.0.0.1:21000\u001b[0m (Press CTRL+C to quit)\n",
            "2023-10-29 19:13:56 | INFO | model_worker | Send heart beat. Models: ['vicuna-7b-v1.5']. Semaphore: None. call_ct: 0. worker_id: 07e0c55d. \n"
          ]
        }
      ]
    }
  ]
}