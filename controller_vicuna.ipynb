{
  "nbformat": 4,
  "nbformat_minor": 0,
  "metadata": {
    "colab": {
      "provenance": [],
      "authorship_tag": "ABX9TyMk6ZDKN/DVFNNkkXoT+ZR2",
      "include_colab_link": true
    },
    "kernelspec": {
      "name": "python3",
      "display_name": "Python 3"
    },
    "language_info": {
      "name": "python"
    }
  },
  "cells": [
    {
      "cell_type": "markdown",
      "metadata": {
        "id": "view-in-github",
        "colab_type": "text"
      },
      "source": [
        "<a href=\"https://colab.research.google.com/github/gregorioborcar/test_apis/blob/master/controller_vicuna.ipynb\" target=\"_parent\"><img src=\"https://colab.research.google.com/assets/colab-badge.svg\" alt=\"Open In Colab\"/></a>"
      ]
    },
    {
      "cell_type": "code",
      "execution_count": null,
      "metadata": {
        "id": "HeO88tkznSdx"
      },
      "outputs": [],
      "source": [
        "!git clone https://github.com/lm-sys/FastChat.git\n",
        "!pip install --upgrade pip\n",
        "!pip install /content/FastChat\n",
        "!pip install pyngrok uvicorn\n",
        "!mkdir -p /root/.config/ngrok/\n",
        "!echo \"authtoken: 2XLD9wNUroURnTNtZpEM8J6mM0u_5vsgdVhC6Tg9G7BrTmfd\" > /root/.config/ngrok/ngrok.yml\n",
        "!ngrok config upgrade"
      ]
    },
    {
      "cell_type": "code",
      "source": [
        "!python /content/FastChat/fastchat/serve/controller.py --host '127.0.0.1' --port 21000"
      ],
      "metadata": {
        "id": "8Gws2dcLnvG6"
      },
      "execution_count": null,
      "outputs": []
    },
    {
      "cell_type": "code",
      "source": [],
      "metadata": {
        "id": "CFWvZ8iSnm9l"
      },
      "execution_count": null,
      "outputs": []
    }
  ]
}